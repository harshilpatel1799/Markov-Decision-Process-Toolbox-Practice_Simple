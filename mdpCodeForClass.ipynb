{
 "cells": [
  {
   "cell_type": "code",
   "execution_count": 81,
   "metadata": {},
   "outputs": [
    {
     "name": "stdout",
     "output_type": "stream",
     "text": [
      "Requirement already satisfied: pymdptoolbox in c:\\users\\harshil patel\\anaconda3\\lib\\site-packages (4.0b3)\n",
      "Requirement already satisfied: scipy in c:\\users\\harshil patel\\anaconda3\\lib\\site-packages (from pymdptoolbox) (1.4.1)\n",
      "Requirement already satisfied: numpy in c:\\users\\harshil patel\\anaconda3\\lib\\site-packages (from pymdptoolbox) (1.18.1)\n"
     ]
    }
   ],
   "source": [
    "!pip install pymdptoolbox"
   ]
  },
  {
   "cell_type": "code",
   "execution_count": 207,
   "metadata": {
    "scrolled": true
   },
   "outputs": [],
   "source": [
    "import mdptoolbox\n",
    "import numpy as np\n",
    "T = np.array([[[0.3, 0.7],[0.9, 0.1]],[[0.2, .8],[0.1, 0.9]]])"
   ]
  },
  {
   "cell_type": "code",
   "execution_count": 208,
   "metadata": {},
   "outputs": [
    {
     "data": {
      "text/plain": [
       "array([[[0.3, 0.7],\n",
       "        [0.9, 0.1]],\n",
       "\n",
       "       [[0.2, 0.8],\n",
       "        [0.1, 0.9]]])"
      ]
     },
     "execution_count": 208,
     "metadata": {},
     "output_type": "execute_result"
    }
   ],
   "source": [
    "T"
   ]
  },
  {
   "cell_type": "code",
   "execution_count": 209,
   "metadata": {},
   "outputs": [],
   "source": [
    "R = np.array([[5, 10], [-1, 2]])"
   ]
  },
  {
   "cell_type": "markdown",
   "metadata": {},
   "source": [
    "### MDP OPERATION : Finite Horizon"
   ]
  },
  {
   "cell_type": "code",
   "execution_count": 226,
   "metadata": {},
   "outputs": [],
   "source": [
    "err1=1\n",
    "err2=1\n",
    "i=1"
   ]
  },
  {
   "cell_type": "code",
   "execution_count": 234,
   "metadata": {},
   "outputs": [],
   "source": [
    "while ((err1<0.2) and (err2<0.2)):\n",
    "    ql = mdptoolbox.mdp.FiniteHorizon(transitions=T, reward=R, discount=0.5, N=i)\n",
    "    ql.run()\n",
    "    ql.V\n",
    "    err1=ql.V[0][0]-ql.V[0][1]\n",
    "    err2=ql.V[1][0]-ql.V[1][1]\n",
    "    i=i+1"
   ]
  },
  {
   "cell_type": "code",
   "execution_count": 235,
   "metadata": {},
   "outputs": [
    {
     "name": "stdout",
     "output_type": "stream",
     "text": [
      "[[13.37523    13.2672     13.058      12.62       11.8        10.\n",
      "   0.        ]\n",
      " [ 5.22630375  5.121275    4.9035      4.49        3.6         2.\n",
      "   0.        ]]\n",
      "NUMBER OF PERIODS: 1\n",
      "BELLMAN EQUATION CONVERGE ERROR: 0.1080299999999994\n",
      "BELLMAN EQUATION CONVERGE ERROR: 0.10502875000000067\n"
     ]
    }
   ],
   "source": [
    "print(ql.V)\n",
    "print('NUMBER OF PERIODS:',i)\n",
    "print('BELLMAN EQUATION CONVERGE ERROR:',ql.V[0][0]-ql.V[0][1])\n",
    "print('BELLMAN EQUATION CONVERGE ERROR:',ql.V[1][0]-ql.V[1][1])"
   ]
  },
  {
   "cell_type": "code",
   "execution_count": 233,
   "metadata": {},
   "outputs": [
    {
     "data": {
      "text/plain": [
       "array([[1, 1, 1, 1, 1, 1],\n",
       "       [0, 0, 0, 0, 0, 1]])"
      ]
     },
     "execution_count": 233,
     "metadata": {},
     "output_type": "execute_result"
    }
   ],
   "source": [
    "ql.policy"
   ]
  },
  {
   "cell_type": "code",
   "execution_count": 230,
   "metadata": {},
   "outputs": [
    {
     "data": {
      "text/plain": [
       "1"
      ]
     },
     "execution_count": 230,
     "metadata": {},
     "output_type": "execute_result"
    }
   ],
   "source": [
    "err2"
   ]
  },
  {
   "cell_type": "markdown",
   "metadata": {},
   "source": [
    "### MDP OPERATION : Value Iteration"
   ]
  },
  {
   "cell_type": "code",
   "execution_count": 167,
   "metadata": {},
   "outputs": [
    {
     "data": {
      "text/plain": [
       "(13.2672, 5.121275)"
      ]
     },
     "execution_count": 167,
     "metadata": {},
     "output_type": "execute_result"
    }
   ],
   "source": [
    "ql = mdptoolbox.mdp.ValueIteration(T, R, 0.5)\n",
    "ql.run()\n",
    "ql.V"
   ]
  },
  {
   "cell_type": "code",
   "execution_count": 168,
   "metadata": {},
   "outputs": [
    {
     "data": {
      "text/plain": [
       "(1, 0)"
      ]
     },
     "execution_count": 168,
     "metadata": {},
     "output_type": "execute_result"
    }
   ],
   "source": [
    "ql.policy"
   ]
  },
  {
   "cell_type": "markdown",
   "metadata": {},
   "source": [
    "### MDP OPERATION : QLearning"
   ]
  },
  {
   "cell_type": "code",
   "execution_count": 169,
   "metadata": {},
   "outputs": [
    {
     "data": {
      "text/plain": [
       "(13.511712967351645, 5.2090134629098745)"
      ]
     },
     "execution_count": 169,
     "metadata": {},
     "output_type": "execute_result"
    }
   ],
   "source": [
    "np.random.seed(0)\n",
    "ql = mdptoolbox.mdp.QLearning(T, R, 0.5)\n",
    "ql.run()\n",
    "ql.V"
   ]
  },
  {
   "cell_type": "code",
   "execution_count": 170,
   "metadata": {},
   "outputs": [
    {
     "data": {
      "text/plain": [
       "array([[ 8.97536754, 13.51171297],\n",
       "       [ 5.20901346,  5.03864966]])"
      ]
     },
     "execution_count": 170,
     "metadata": {},
     "output_type": "execute_result"
    }
   ],
   "source": [
    "ql.Q"
   ]
  },
  {
   "cell_type": "code",
   "execution_count": 171,
   "metadata": {},
   "outputs": [
    {
     "data": {
      "text/plain": [
       "(1, 0)"
      ]
     },
     "execution_count": 171,
     "metadata": {},
     "output_type": "execute_result"
    }
   ],
   "source": [
    "ql.policy"
   ]
  },
  {
   "cell_type": "markdown",
   "metadata": {},
   "source": [
    "### EXAMPLE"
   ]
  },
  {
   "cell_type": "code",
   "execution_count": 86,
   "metadata": {},
   "outputs": [],
   "source": [
    "import mdptoolbox, mdptoolbox.example\n",
    "#T, R = mdptoolbox.example.forest()"
   ]
  },
  {
   "cell_type": "code",
   "execution_count": 87,
   "metadata": {},
   "outputs": [
    {
     "data": {
      "text/plain": [
       "array([[[0.3, 0.7],\n",
       "        [0.9, 0.1]],\n",
       "\n",
       "       [[0.2, 0.8],\n",
       "        [0.1, 0.9]]])"
      ]
     },
     "execution_count": 87,
     "metadata": {},
     "output_type": "execute_result"
    }
   ],
   "source": [
    "T"
   ]
  },
  {
   "cell_type": "code",
   "execution_count": 88,
   "metadata": {},
   "outputs": [
    {
     "data": {
      "text/plain": [
       "array([[ 5, 10],\n",
       "       [-1,  2]])"
      ]
     },
     "execution_count": 88,
     "metadata": {},
     "output_type": "execute_result"
    }
   ],
   "source": [
    "R"
   ]
  },
  {
   "cell_type": "code",
   "execution_count": 89,
   "metadata": {},
   "outputs": [],
   "source": [
    "fh = mdptoolbox.mdp.FiniteHorizon(transitions=T, reward=R, discount=0.5, N=5)\n",
    "# fh = mdptoolbox.mdp.FiniteHorizon(T, R, 0.9, 5)\n",
    "fh.run()"
   ]
  },
  {
   "cell_type": "code",
   "execution_count": 90,
   "metadata": {},
   "outputs": [
    {
     "data": {
      "text/plain": [
       "array([[13.2672  , 13.058   , 12.62    , 11.8     , 10.      ,  0.      ],\n",
       "       [ 5.121275,  4.9035  ,  4.49    ,  3.6     ,  2.      ,  0.      ]])"
      ]
     },
     "execution_count": 90,
     "metadata": {},
     "output_type": "execute_result"
    }
   ],
   "source": [
    "fh.V"
   ]
  },
  {
   "cell_type": "code",
   "execution_count": 91,
   "metadata": {},
   "outputs": [
    {
     "data": {
      "text/plain": [
       "array([[1, 1, 1, 1, 1],\n",
       "       [0, 0, 0, 0, 1]])"
      ]
     },
     "execution_count": 91,
     "metadata": {},
     "output_type": "execute_result"
    }
   ],
   "source": [
    "fh.policy"
   ]
  },
  {
   "cell_type": "code",
   "execution_count": 92,
   "metadata": {},
   "outputs": [
    {
     "data": {
      "text/plain": [
       "array([[ 5, 10],\n",
       "       [-1,  2]])"
      ]
     },
     "execution_count": 92,
     "metadata": {},
     "output_type": "execute_result"
    }
   ],
   "source": [
    "R"
   ]
  },
  {
   "cell_type": "code",
   "execution_count": null,
   "metadata": {},
   "outputs": [],
   "source": []
  }
 ],
 "metadata": {
  "kernelspec": {
   "display_name": "Python 3",
   "language": "python",
   "name": "python3"
  },
  "language_info": {
   "codemirror_mode": {
    "name": "ipython",
    "version": 3
   },
   "file_extension": ".py",
   "mimetype": "text/x-python",
   "name": "python",
   "nbconvert_exporter": "python",
   "pygments_lexer": "ipython3",
   "version": "3.7.6"
  }
 },
 "nbformat": 4,
 "nbformat_minor": 2
}
